{
 "cells": [
  {
   "cell_type": "markdown",
   "metadata": {},
   "source": [
    "**1) myreduce function**"
   ]
  },
  {
   "cell_type": "code",
   "execution_count": 1,
   "metadata": {},
   "outputs": [
    {
     "data": {
      "text/plain": [
       "25"
      ]
     },
     "execution_count": 1,
     "metadata": {},
     "output_type": "execute_result"
    }
   ],
   "source": [
    "'''\n",
    "We will define a function myreduce where a variable RESULT is assigned with first item in list/sequence. \n",
    "In FOR loop we will iterate or go through every item in the list and then return a result.\n",
    "We will have to pass 2 parameters namely, function and value where function decides which reduction process to go with \n",
    "and value will take a list of numbers.\n",
    "'''\n",
    "\n",
    "def myreduce(function, value):\n",
    "    result = value[0]\n",
    "    for item in value[1:]:\n",
    "        result = function(result, item)\n",
    "    return result\n",
    "\n",
    "def add(x,y): # Similarly we can reduce the list if subtraction, multiplication or division is required \n",
    "    return x+y\n",
    "myreduce(add, [1,3,5,7,9])"
   ]
  },
  {
   "cell_type": "markdown",
   "metadata": {},
   "source": [
    "**2) myfilter function**"
   ]
  },
  {
   "cell_type": "code",
   "execution_count": 3,
   "metadata": {},
   "outputs": [
    {
     "data": {
      "text/plain": [
       "[1, 2, 3, 0]"
      ]
     },
     "execution_count": 3,
     "metadata": {},
     "output_type": "execute_result"
    }
   ],
   "source": [
    "'''\n",
    "We will create a filter function that allows to append the list depending on whether\n",
    "the ispositive/isnegative function returns True or False.\n",
    "'''\n",
    "\n",
    "def myfilter(function, value):\n",
    "    result = []\n",
    "    for item in value:\n",
    "        if function(item):\n",
    "            result.append(item)\n",
    "    return result\n",
    "\n",
    "def ispositive(n):\n",
    "    if (n >= 0): \n",
    "        return True \n",
    "    else: \n",
    "        return False\n",
    "\n",
    "def isnegative(n):\n",
    "    if (n < 0): \n",
    "        return True \n",
    "    else: \n",
    "        return False\n",
    "    \n",
    "myfilter(ispositive, [1,2,3,0,-9,-10])"
   ]
  },
  {
   "cell_type": "markdown",
   "metadata": {},
   "source": [
    "**3) List Comprehension**"
   ]
  },
  {
   "cell_type": "code",
   "execution_count": 4,
   "metadata": {},
   "outputs": [
    {
     "name": "stdout",
     "output_type": "stream",
     "text": [
      "['A', 'C', 'A', 'D', 'G', 'I', 'L', 'D']\n",
      "['x', 'xx', 'xxx', 'xxxx', 'y', 'yy', 'yyy', 'yyyy', 'z', 'zz', 'zzz', 'zzzz']\n",
      "['x', 'y', 'z', 'xx', 'yy', 'zz', 'xxx', 'yyy', 'zzz', 'xxxx', 'yyyy', 'zzzz']\n"
     ]
    }
   ],
   "source": [
    "words = \"ACADGILD\"\n",
    "word= [ i for i in words ]\n",
    "print(str(word))\n",
    "\n",
    "word= ['x','y','z']\n",
    "result = [ i*n for i in word for n in range(1,5) ]\n",
    "print(str(result))\n",
    "\n",
    "word= ['x','y','z']\n",
    "result = [ i*n for n in range(1,5) for i in word  ]\n",
    "print(str(result))"
   ]
  },
  {
   "cell_type": "code",
   "execution_count": 5,
   "metadata": {},
   "outputs": [
    {
     "name": "stdout",
     "output_type": "stream",
     "text": [
      "[[2], [3], [4], [3], [4], [5], [4], [5], [6]]\n",
      "[[2, 3, 4, 5], [3, 4, 5, 6], [4, 5, 6, 7], [5, 6, 7, 8]]\n",
      "[(1, 1), (2, 1), (3, 1), (1, 2), (2, 2), (3, 2), (1, 3), (2, 3), (3, 3)]\n"
     ]
    }
   ],
   "source": [
    "number = [2,3,4]\n",
    "result = [ [i+n] for i in number for n in range(0,3)]\n",
    "print(str(result))\n",
    "\n",
    "number = [2,3,4,5]\n",
    "result = [ [i+n for i in number] for n in range(0,4)  ]\n",
    "print(str(result))\n",
    "\n",
    "number = [1,2,3]\n",
    "result = [ (i,n) for n in number for i in number]\n",
    "print(str(result))"
   ]
  },
  {
   "cell_type": "markdown",
   "metadata": {},
   "source": [
    "**4) Function to find Longest Word**"
   ]
  },
  {
   "cell_type": "code",
   "execution_count": 7,
   "metadata": {},
   "outputs": [
    {
     "name": "stdout",
     "output_type": "stream",
     "text": [
      "Python\n"
     ]
    }
   ],
   "source": [
    "def find_longest_word(words): # defines a function named find_longest_word and it will take one parameter i.e. word in list\n",
    "    word_len = []             # to store the word and their length in a list   \n",
    "    for n in words:           \n",
    "        word_len.append((len(n), n))  # appends/updates the list word_len with 2 features, length of word and the word itself\n",
    "    word_len.sort()                   # this will sort the list word_len on the basis of length of word\n",
    "    return word_len[-1][1]            # this will return a word which lies in last place of the last list in word_len \n",
    "    \n",
    "print(find_longest_word([\"Python\", \"Java\", \"R\"]))\n",
    "\n",
    "### After FOR loop is completed, word_len will look like [(1, 'R'), (4, 'Java'), (6, 'Python')]"
   ]
  },
  {
   "cell_type": "markdown",
   "metadata": {},
   "source": [
    "**5) calculate area of triangle using class**"
   ]
  },
  {
   "cell_type": "code",
   "execution_count": 27,
   "metadata": {},
   "outputs": [
    {
     "name": "stdout",
     "output_type": "stream",
     "text": [
      "Area of the triangle is : 20.33316256758894\n"
     ]
    }
   ],
   "source": [
    "# class Triangle will initiate the attribute of class with the help of __init__\n",
    "\n",
    "class Triangle:\n",
    "    def __init__(self, a, b, c):\n",
    "        self.a = a\n",
    "        self.b = b\n",
    "        self.c = c\n",
    "        \n",
    "# this class will calculate the area of triangle\n",
    "        \n",
    "class Area(Triangle):\n",
    "    def calculation(self):\n",
    "        s = (self.a + self.b + self.c) / 2\n",
    "        area = (s*(s-self.a)*(s-self.b)*(s-self.c)) ** 0.5\n",
    "        return area\n",
    "    \n",
    "Area_of_a_Triangle = Area(6, 7, 8) \n",
    "a= Area_of_a_Triangle.calculation()\n",
    "print(f'Area of the triangle is : {a}')"
   ]
  },
  {
   "cell_type": "markdown",
   "metadata": {},
   "source": [
    "**6) To Filter long words**"
   ]
  },
  {
   "cell_type": "code",
   "execution_count": 48,
   "metadata": {},
   "outputs": [
    {
     "data": {
      "text/plain": [
       "['science', 'machine', 'learning']"
      ]
     },
     "execution_count": 48,
     "metadata": {},
     "output_type": "execute_result"
    }
   ],
   "source": [
    "# We can either use list comprehension or append method by updating an empty list\n",
    "\n",
    "lists = ['data', 'science', 'machine', 'learning']\n",
    "\n",
    "def filter_long_words(lists, n):\n",
    "    return [ i for i in lists if len (i) > n ]\n",
    "\n",
    "filter_long_words(lists, 5)"
   ]
  },
  {
   "cell_type": "markdown",
   "metadata": {},
   "source": [
    "**7) Function to convert list of words into list of integars**"
   ]
  },
  {
   "cell_type": "code",
   "execution_count": 50,
   "metadata": {},
   "outputs": [
    {
     "data": {
      "text/plain": [
       "[4, 7, 7, 8]"
      ]
     },
     "execution_count": 50,
     "metadata": {},
     "output_type": "execute_result"
    }
   ],
   "source": [
    "lists = ['data', 'science', 'machine', 'learning']\n",
    "\n",
    "def conversion(lists):\n",
    "    return [len(n) for n in lists]\n",
    "\n",
    "conversion(lists)"
   ]
  },
  {
   "cell_type": "markdown",
   "metadata": {},
   "source": [
    "**8) check for vowels**"
   ]
  },
  {
   "cell_type": "code",
   "execution_count": 6,
   "metadata": {},
   "outputs": [
    {
     "name": "stdin",
     "output_type": "stream",
     "text": [
      "enter a letter/alphabet: i\n"
     ]
    },
    {
     "data": {
      "text/plain": [
       "True"
      ]
     },
     "execution_count": 6,
     "metadata": {},
     "output_type": "execute_result"
    }
   ],
   "source": [
    "def vowel(char):\n",
    "    vowels = ('a', 'e', 'i', 'o', 'u', 'A', 'E', 'I', 'O', 'U')\n",
    "    if char not in vowels:\n",
    "        return False\n",
    "    return True\n",
    "\n",
    "char = input(\"enter a letter/alphabet:\")\n",
    "vowel(char)"
   ]
  }
 ],
 "metadata": {
  "kernelspec": {
   "display_name": "Python 3",
   "language": "python",
   "name": "python3"
  },
  "language_info": {
   "codemirror_mode": {
    "name": "ipython",
    "version": 3
   },
   "file_extension": ".py",
   "mimetype": "text/x-python",
   "name": "python",
   "nbconvert_exporter": "python",
   "pygments_lexer": "ipython3",
   "version": "3.7.3"
  }
 },
 "nbformat": 4,
 "nbformat_minor": 4
}
